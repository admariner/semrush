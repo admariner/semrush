{
  "nbformat": 4,
  "nbformat_minor": 0,
  "metadata": {
    "colab": {
      "name": "SEMRush Weekly Wisdom - Competitor SERP Features.ipynb",
      "provenance": [],
      "toc_visible": true,
      "authorship_tag": "ABX9TyMoTHq4H/ACMrdvtCCXF61L",
      "include_colab_link": true
    },
    "kernelspec": {
      "name": "python3",
      "display_name": "Python 3"
    }
  },
  "cells": [
    {
      "cell_type": "markdown",
      "metadata": {
        "id": "view-in-github",
        "colab_type": "text"
      },
      "source": [
        "<a href=\"https://colab.research.google.com/github/hamletbatista/semrush/blob/master/SEMRush_Weekly_Wisdom_Competitor_SERP_Features.ipynb\" target=\"_parent\"><img src=\"https://colab.research.google.com/assets/colab-badge.svg\" alt=\"Open In Colab\"/></a>"
      ]
    },
    {
      "cell_type": "markdown",
      "metadata": {
        "id": "9Ix2O3tG2wCZ",
        "colab_type": "text"
      },
      "source": [
        "#What SERP features does my competitor has that I don't have?\n",
        "\n",
        "We will learn:\n",
        "\n",
        "1. How to pull data programatically from SEMRush\n",
        "2. How to analyze the data \n",
        "3. Export the results to a CSV for further analysis\n",
        "\n",
        "\n",
        "\n"
      ]
    },
    {
      "cell_type": "markdown",
      "metadata": {
        "id": "xvRfYJS04wXa",
        "colab_type": "text"
      },
      "source": [
        "###Extract data from SEMRush\n",
        "\n",
        "\n",
        "You can find SEMrush API reference here\n",
        "https://www.semrush.com/api-analytics/\n",
        "\n",
        "You can find your API key here https://www.semrush.com/api-use/"
      ]
    },
    {
      "cell_type": "markdown",
      "metadata": {
        "id": "lpBaCq5R65je",
        "colab_type": "text"
      },
      "source": [
        "You can create forms to feed input into the notebook. See https://colab.research.google.com/notebooks/forms.ipynb"
      ]
    },
    {
      "cell_type": "code",
      "metadata": {
        "id": "vxC-W3qX6s3e",
        "colab_type": "code",
        "cellView": "form",
        "colab": {}
      },
      "source": [
        "#@title Provide input values\n",
        "\n",
        "\n",
        "domain = \"advanceautoparts.com\" #@param {type:\"string\"}\n",
        "\n",
        "csv_file = \"advanceautoparts.csv\" #@param {type:\"string\"}\n",
        "\n",
        "key = \"TYPE SEMRush API key here\" #@param {type:\"string\"}\n"
      ],
      "execution_count": 0,
      "outputs": []
    },
    {
      "cell_type": "markdown",
      "metadata": {
        "id": "wfAks7mCH4Il",
        "colab_type": "text"
      },
      "source": [
        "### Leverage existing code\n",
        "\n",
        "We will borrow my SEMrush code from this article https://searchengineland.com/brands-can-better-understand-users-on-third-party-sites-by-using-a-keyword-overlap-analysis-316157"
      ]
    },
    {
      "cell_type": "code",
      "metadata": {
        "id": "3KF8Z9pw42et",
        "colab_type": "code",
        "colab": {}
      },
      "source": [
        "import requests\n",
        "from urllib.parse import urlencode, urlparse, urlunparse, quote\n",
        "import pandas as pd\n",
        "\n",
        "#def get_seo_branded_data(brand, domain, database=\"us\", export_columns=\"Ph,Po,Nq,Ur,Tg,Td,Ts\", display_limit=10000, display_filter=\"+|Ph|Co|{brand}\"):\n",
        "#Found that SERP features is -> Fl in https://www.semrush.com/api-analytics/#columns\n",
        "def get_serp_features(domain, database=\"us\", export_columns=\"Fl\", display_limit=10000):\n",
        "   \n",
        "  #global key\n",
        "  \n",
        "  url_params={\"type\": \"domain_organic\",\n",
        "             \"key\": key,\n",
        "             \"display_limit\": display_limit,\n",
        "             \"export_columns\": export_columns,\n",
        "             \"domain\": domain,\n",
        "             \"database\": database\n",
        "             }\n",
        "\n",
        "  api_url=\"https://api.semrush.com/\"\n",
        "\n",
        "  qs = urlencode(url_params)\n",
        "\n",
        "  u = urlparse(api_url)\n",
        "\n",
        "  api_request = urlunparse((u.scheme, u.netloc, u.path, u.params, qs, u.fragment))\n",
        "  \n",
        "  #print(api_request)\n",
        "  \n",
        "  r = requests.get(api_request)\n",
        "  \n",
        "  if r.status_code == 200:\n",
        "\n",
        "    results = r.text.split(\"\\r\\n\") #\n",
        "    headers = results[0].split(\";\") # save result headers to list\n",
        "    table = [x.split(\";\") for x in results[1:]] #save columns to list of lists\n",
        "    \n",
        "    df = pd.DataFrame(table, columns=headers).dropna() #remove null types\n",
        "    \n",
        "    return df\n",
        "  \n",
        "  else:\n",
        "    print(\"API call failed with code {code}\".format(code=r.status_code))\n",
        "    \n",
        "    return None\n",
        "  "
      ],
      "execution_count": 0,
      "outputs": []
    },
    {
      "cell_type": "markdown",
      "metadata": {
        "id": "KK_63ApVFdD-",
        "colab_type": "text"
      },
      "source": [
        "###Test your changes work"
      ]
    },
    {
      "cell_type": "code",
      "metadata": {
        "id": "szgYQHvQ54YZ",
        "colab_type": "code",
        "outputId": "4d9deac3-6ebd-4f95-b20a-6eca9cdd9e63",
        "colab": {
          "base_uri": "https://localhost:8080/"
        }
      },
      "source": [
        "df = get_serp_features(domain)\n",
        "df.head()"
      ],
      "execution_count": 0,
      "outputs": [
        {
          "output_type": "execute_result",
          "data": {
            "text/html": [
              "<div>\n",
              "<style scoped>\n",
              "    .dataframe tbody tr th:only-of-type {\n",
              "        vertical-align: middle;\n",
              "    }\n",
              "\n",
              "    .dataframe tbody tr th {\n",
              "        vertical-align: top;\n",
              "    }\n",
              "\n",
              "    .dataframe thead th {\n",
              "        text-align: right;\n",
              "    }\n",
              "</style>\n",
              "<table border=\"1\" class=\"dataframe\">\n",
              "  <thead>\n",
              "    <tr style=\"text-align: right;\">\n",
              "      <th></th>\n",
              "      <th>SERP Features</th>\n",
              "    </tr>\n",
              "  </thead>\n",
              "  <tbody>\n",
              "    <tr>\n",
              "      <th>0</th>\n",
              "      <td>1,3,5,6</td>\n",
              "    </tr>\n",
              "    <tr>\n",
              "      <th>1</th>\n",
              "      <td>1,3,5,6</td>\n",
              "    </tr>\n",
              "    <tr>\n",
              "      <th>2</th>\n",
              "      <td>3,6</td>\n",
              "    </tr>\n",
              "    <tr>\n",
              "      <th>3</th>\n",
              "      <td>1,3,4,5,6</td>\n",
              "    </tr>\n",
              "    <tr>\n",
              "      <th>4</th>\n",
              "      <td>0,1,3,4,5,6</td>\n",
              "    </tr>\n",
              "  </tbody>\n",
              "</table>\n",
              "</div>"
            ],
            "text/plain": [
              "  SERP Features\n",
              "0       1,3,5,6\n",
              "1       1,3,5,6\n",
              "2           3,6\n",
              "3     1,3,4,5,6\n",
              "4   0,1,3,4,5,6"
            ]
          },
          "metadata": {
            "tags": []
          },
          "execution_count": 23
        }
      ]
    },
    {
      "cell_type": "markdown",
      "metadata": {
        "id": "c5IOoVtXF1pC",
        "colab_type": "text"
      },
      "source": [
        "###Scrape the SERP Features reference\n",
        "We need to check the SERP Features reference to map the numbers to the name of the feature. See https://www.semrush.com/api-analytics/#serp_features\n",
        "\n",
        "\n",
        "I used JavaScript code from https://gist.github.com/hamletbatista/b6424dac3801befbef56604a291cf2e3"
      ]
    },
    {
      "cell_type": "code",
      "metadata": {
        "id": "kCniROtlFh2C",
        "colab_type": "code",
        "colab": {}
      },
      "source": [
        "#https://www.semrush.com/api-analytics/#serp_features)\n",
        "\n",
        "#First element selector\n",
        "#serp_features > div.api-body-table > table > tbody > tr:nth-child(1) > td:nth-child(2)\n",
        "\n",
        "#We change it to #serp_features > div.api-body-table > table > tbody > tr > td:nth-child(2)\n",
        "\n",
        "serp_index=[\"Instant answer\", \"Knowledge panel\", \"Carousel\", \"Local pack\", \"Top stories\", \"Image pack\", \"Site links\", \"Reviews\", \"Tweet\", \"Video\", \"Featured video\", \"Featured Snippet\", \"AMP\", \"Image\", \"AdWords top\", \"AdWords bottom\", \"Shopping ads\", \"Hotels Pack\", \"Jobs search\", \"Featured images\", \"Video Carousel\", \"People also ask\"]\n"
      ],
      "execution_count": 0,
      "outputs": []
    },
    {
      "cell_type": "code",
      "metadata": {
        "id": "X2BRB1xTGzeb",
        "colab_type": "code",
        "outputId": "ea63dfc4-3cef-4e97-a4d4-3946eb5c1ec0",
        "colab": {
          "base_uri": "https://localhost:8080/"
        }
      },
      "source": [
        "example= df[\"SERP Features\"].iloc[0]\n",
        "example"
      ],
      "execution_count": 0,
      "outputs": [
        {
          "output_type": "execute_result",
          "data": {
            "text/plain": [
              "'1,3,5,6'"
            ]
          },
          "metadata": {
            "tags": []
          },
          "execution_count": 25
        }
      ]
    },
    {
      "cell_type": "markdown",
      "metadata": {
        "id": "otCPRAdKROd3",
        "colab_type": "text"
      },
      "source": [
        "### Map feature ids to their names\n",
        "Next we want to map this list of features to their names"
      ]
    },
    {
      "cell_type": "code",
      "metadata": {
        "id": "OmFQNWlxRJEs",
        "colab_type": "code",
        "outputId": "470837cc-c2fc-4dc1-8879-51456fb43f82",
        "colab": {
          "base_uri": "https://localhost:8080/"
        }
      },
      "source": [
        "example_list = example.split(\",\")\n",
        "example_list"
      ],
      "execution_count": 0,
      "outputs": [
        {
          "output_type": "execute_result",
          "data": {
            "text/plain": [
              "['1', '3', '5', '6']"
            ]
          },
          "metadata": {
            "tags": []
          },
          "execution_count": 26
        }
      ]
    },
    {
      "cell_type": "code",
      "metadata": {
        "id": "DhC82_5SRc9V",
        "colab_type": "code",
        "outputId": "dd5968ed-5a00-4765-d297-8ddc0f01b155",
        "colab": {
          "base_uri": "https://localhost:8080/"
        }
      },
      "source": [
        "for feature in example_list:\n",
        "  print(feature)"
      ],
      "execution_count": 0,
      "outputs": [
        {
          "output_type": "stream",
          "text": [
            "1\n",
            "3\n",
            "5\n",
            "6\n"
          ],
          "name": "stdout"
        }
      ]
    },
    {
      "cell_type": "code",
      "metadata": {
        "id": "EG4ljW3NRq0L",
        "colab_type": "code",
        "colab": {}
      },
      "source": [
        "#for feature in example_list:\n",
        "#  print(serp_index[feature])"
      ],
      "execution_count": 0,
      "outputs": []
    },
    {
      "cell_type": "code",
      "metadata": {
        "id": "80tqfoSQRyQc",
        "colab_type": "code",
        "outputId": "993fe2c0-420b-427b-d4b0-2ebd2f041f23",
        "colab": {
          "base_uri": "https://localhost:8080/"
        }
      },
      "source": [
        "for feature in example_list:\n",
        "  print(serp_index[int(feature)])"
      ],
      "execution_count": 0,
      "outputs": [
        {
          "output_type": "stream",
          "text": [
            "Knowledge panel\n",
            "Local pack\n",
            "Image pack\n",
            "Site links\n"
          ],
          "name": "stdout"
        }
      ]
    },
    {
      "cell_type": "code",
      "metadata": {
        "id": "idydeoc1R2RR",
        "colab_type": "code",
        "colab": {}
      },
      "source": [
        ""
      ],
      "execution_count": 0,
      "outputs": []
    },
    {
      "cell_type": "markdown",
      "metadata": {
        "id": "0IxSix-mR5iL",
        "colab_type": "text"
      },
      "source": [
        "### Generalize solution\n",
        "Now we will create a function to generalize this"
      ]
    },
    {
      "cell_type": "code",
      "metadata": {
        "id": "aORdEI7CR9Bp",
        "colab_type": "code",
        "colab": {}
      },
      "source": [
        "def get_feature_names(indices):\n",
        "\n",
        "  serp_index=[\"Instant answer\", \"Knowledge panel\", \"Carousel\", \"Local pack\", \"Top stories\", \"Image pack\", \"Site links\", \"Reviews\", \"Tweet\", \"Video\", \"Featured video\", \"Featured Snippet\", \"AMP\", \"Image\", \"AdWords top\", \"AdWords bottom\", \"Shopping ads\", \"Hotels Pack\", \"Jobs search\", \"Featured images\", \"Video Carousel\", \"People also ask\"]\n",
        "  \n",
        "  index_list = indices.split(\",\")\n",
        "\n",
        "  feature_names = list()\n",
        "\n",
        "  for i in index_list:\n",
        "      if len(i) > 0:\n",
        "        feature_names.append(serp_index[int(i)])\n",
        "\n",
        "  return feature_names"
      ],
      "execution_count": 0,
      "outputs": []
    },
    {
      "cell_type": "code",
      "metadata": {
        "id": "MQqEgtdeS2Lc",
        "colab_type": "code",
        "outputId": "6c188c3c-6326-4de6-babb-e23c91aa9dd9",
        "colab": {
          "base_uri": "https://localhost:8080/"
        }
      },
      "source": [
        "example_names = get_feature_names(example)\n",
        "example_names"
      ],
      "execution_count": 0,
      "outputs": [
        {
          "output_type": "execute_result",
          "data": {
            "text/plain": [
              "['Knowledge panel', 'Local pack', 'Image pack', 'Site links']"
            ]
          },
          "metadata": {
            "tags": []
          },
          "execution_count": 31
        }
      ]
    },
    {
      "cell_type": "code",
      "metadata": {
        "id": "m-0elBhqS71W",
        "colab_type": "code",
        "colab": {}
      },
      "source": [
        ""
      ],
      "execution_count": 0,
      "outputs": []
    },
    {
      "cell_type": "markdown",
      "metadata": {
        "id": "85YeZzd9TN_T",
        "colab_type": "text"
      },
      "source": [
        "We can convert this list back to a string"
      ]
    },
    {
      "cell_type": "code",
      "metadata": {
        "id": "9pYSCV9ITSd8",
        "colab_type": "code",
        "outputId": "14b03c2b-077e-4381-cf33-8a2cfa4fc05d",
        "colab": {
          "base_uri": "https://localhost:8080/"
        }
      },
      "source": [
        "\",\".join(example_names)"
      ],
      "execution_count": 0,
      "outputs": [
        {
          "output_type": "execute_result",
          "data": {
            "text/plain": [
              "'Knowledge panel,Local pack,Image pack,Site links'"
            ]
          },
          "metadata": {
            "tags": []
          },
          "execution_count": 32
        }
      ]
    },
    {
      "cell_type": "code",
      "metadata": {
        "id": "vDq4Uy4FTZRt",
        "colab_type": "code",
        "colab": {}
      },
      "source": [
        ""
      ],
      "execution_count": 0,
      "outputs": []
    },
    {
      "cell_type": "markdown",
      "metadata": {
        "id": "cXIkIRvhTi1c",
        "colab_type": "text"
      },
      "source": [
        "###Update dataframe with feature names\n",
        "Now, we can add a new column to the dataframe with the names"
      ]
    },
    {
      "cell_type": "code",
      "metadata": {
        "id": "PXhc64_aTlri",
        "colab_type": "code",
        "outputId": "13c2abca-744f-4882-9093-f45b8d9d228f",
        "colab": {
          "base_uri": "https://localhost:8080/"
        }
      },
      "source": [
        "df[\"SERP Features\"].apply(lambda x: \",\".join(get_feature_names(x)) )"
      ],
      "execution_count": 0,
      "outputs": [
        {
          "output_type": "execute_result",
          "data": {
            "text/plain": [
              "0         Knowledge panel,Local pack,Image pack,Site links\n",
              "1         Knowledge panel,Local pack,Image pack,Site links\n",
              "2                                    Local pack,Site links\n",
              "3        Knowledge panel,Local pack,Top stories,Image p...\n",
              "4        Instant answer,Knowledge panel,Local pack,Top ...\n",
              "                               ...                        \n",
              "9996                                            Image pack\n",
              "9997                                                      \n",
              "9998                            Knowledge panel,Image pack\n",
              "9999                                            Image pack\n",
              "10000                                                     \n",
              "Name: SERP Features, Length: 10001, dtype: object"
            ]
          },
          "metadata": {
            "tags": []
          },
          "execution_count": 33
        }
      ]
    },
    {
      "cell_type": "code",
      "metadata": {
        "id": "Rnrnc8fZT3iT",
        "colab_type": "code",
        "colab": {}
      },
      "source": [
        "df[\"SERP Feature Names\"] = df[\"SERP Features\"].apply(lambda x: \",\".join(get_feature_names(x)) )"
      ],
      "execution_count": 0,
      "outputs": []
    },
    {
      "cell_type": "code",
      "metadata": {
        "id": "qXcU-GsqUOV6",
        "colab_type": "code",
        "outputId": "27296d61-a173-4332-fc0b-b75c6621af7b",
        "colab": {
          "base_uri": "https://localhost:8080/"
        }
      },
      "source": [
        "df.head()"
      ],
      "execution_count": 0,
      "outputs": [
        {
          "output_type": "execute_result",
          "data": {
            "text/html": [
              "<div>\n",
              "<style scoped>\n",
              "    .dataframe tbody tr th:only-of-type {\n",
              "        vertical-align: middle;\n",
              "    }\n",
              "\n",
              "    .dataframe tbody tr th {\n",
              "        vertical-align: top;\n",
              "    }\n",
              "\n",
              "    .dataframe thead th {\n",
              "        text-align: right;\n",
              "    }\n",
              "</style>\n",
              "<table border=\"1\" class=\"dataframe\">\n",
              "  <thead>\n",
              "    <tr style=\"text-align: right;\">\n",
              "      <th></th>\n",
              "      <th>SERP Features</th>\n",
              "      <th>SERP Feature Names</th>\n",
              "    </tr>\n",
              "  </thead>\n",
              "  <tbody>\n",
              "    <tr>\n",
              "      <th>0</th>\n",
              "      <td>1,3,5,6</td>\n",
              "      <td>Knowledge panel,Local pack,Image pack,Site links</td>\n",
              "    </tr>\n",
              "    <tr>\n",
              "      <th>1</th>\n",
              "      <td>1,3,5,6</td>\n",
              "      <td>Knowledge panel,Local pack,Image pack,Site links</td>\n",
              "    </tr>\n",
              "    <tr>\n",
              "      <th>2</th>\n",
              "      <td>3,6</td>\n",
              "      <td>Local pack,Site links</td>\n",
              "    </tr>\n",
              "    <tr>\n",
              "      <th>3</th>\n",
              "      <td>1,3,4,5,6</td>\n",
              "      <td>Knowledge panel,Local pack,Top stories,Image p...</td>\n",
              "    </tr>\n",
              "    <tr>\n",
              "      <th>4</th>\n",
              "      <td>0,1,3,4,5,6</td>\n",
              "      <td>Instant answer,Knowledge panel,Local pack,Top ...</td>\n",
              "    </tr>\n",
              "  </tbody>\n",
              "</table>\n",
              "</div>"
            ],
            "text/plain": [
              "  SERP Features                                 SERP Feature Names\n",
              "0       1,3,5,6   Knowledge panel,Local pack,Image pack,Site links\n",
              "1       1,3,5,6   Knowledge panel,Local pack,Image pack,Site links\n",
              "2           3,6                              Local pack,Site links\n",
              "3     1,3,4,5,6  Knowledge panel,Local pack,Top stories,Image p...\n",
              "4   0,1,3,4,5,6  Instant answer,Knowledge panel,Local pack,Top ..."
            ]
          },
          "metadata": {
            "tags": []
          },
          "execution_count": 35
        }
      ]
    },
    {
      "cell_type": "code",
      "metadata": {
        "id": "zWC2klbZUPuz",
        "colab_type": "code",
        "colab": {}
      },
      "source": [
        ""
      ],
      "execution_count": 0,
      "outputs": []
    },
    {
      "cell_type": "markdown",
      "metadata": {
        "id": "na8wO3RuUcI3",
        "colab_type": "text"
      },
      "source": [
        "###Simplify to get only the SERP names "
      ]
    },
    {
      "cell_type": "code",
      "metadata": {
        "id": "f_EX2bI1UtWZ",
        "colab_type": "code",
        "outputId": "a28c13dd-5e85-4567-a252-281f640cc555",
        "colab": {
          "base_uri": "https://localhost:8080/"
        }
      },
      "source": [
        "df_consolidated = df.groupby(\"SERP Feature Names\").count()\n",
        "df_consolidated"
      ],
      "execution_count": 0,
      "outputs": [
        {
          "output_type": "execute_result",
          "data": {
            "text/html": [
              "<div>\n",
              "<style scoped>\n",
              "    .dataframe tbody tr th:only-of-type {\n",
              "        vertical-align: middle;\n",
              "    }\n",
              "\n",
              "    .dataframe tbody tr th {\n",
              "        vertical-align: top;\n",
              "    }\n",
              "\n",
              "    .dataframe thead th {\n",
              "        text-align: right;\n",
              "    }\n",
              "</style>\n",
              "<table border=\"1\" class=\"dataframe\">\n",
              "  <thead>\n",
              "    <tr style=\"text-align: right;\">\n",
              "      <th></th>\n",
              "      <th>SERP Features</th>\n",
              "    </tr>\n",
              "    <tr>\n",
              "      <th>SERP Feature Names</th>\n",
              "      <th></th>\n",
              "    </tr>\n",
              "  </thead>\n",
              "  <tbody>\n",
              "    <tr>\n",
              "      <th></th>\n",
              "      <td>1399</td>\n",
              "    </tr>\n",
              "    <tr>\n",
              "      <th>Carousel</th>\n",
              "      <td>4</td>\n",
              "    </tr>\n",
              "    <tr>\n",
              "      <th>Carousel,Image pack</th>\n",
              "      <td>11</td>\n",
              "    </tr>\n",
              "    <tr>\n",
              "      <th>Carousel,Image pack,Featured Snippet</th>\n",
              "      <td>1</td>\n",
              "    </tr>\n",
              "    <tr>\n",
              "      <th>Carousel,Top stories,Image pack</th>\n",
              "      <td>1</td>\n",
              "    </tr>\n",
              "    <tr>\n",
              "      <th>Featured Snippet</th>\n",
              "      <td>56</td>\n",
              "    </tr>\n",
              "    <tr>\n",
              "      <th>Image pack</th>\n",
              "      <td>3366</td>\n",
              "    </tr>\n",
              "    <tr>\n",
              "      <th>Image pack,Featured Snippet</th>\n",
              "      <td>54</td>\n",
              "    </tr>\n",
              "    <tr>\n",
              "      <th>Image pack,Reviews</th>\n",
              "      <td>8</td>\n",
              "    </tr>\n",
              "    <tr>\n",
              "      <th>Image pack,Site links</th>\n",
              "      <td>89</td>\n",
              "    </tr>\n",
              "    <tr>\n",
              "      <th>Image pack,Site links,Featured Snippet</th>\n",
              "      <td>1</td>\n",
              "    </tr>\n",
              "    <tr>\n",
              "      <th>Instant answer</th>\n",
              "      <td>2</td>\n",
              "    </tr>\n",
              "    <tr>\n",
              "      <th>Instant answer,Image pack</th>\n",
              "      <td>11</td>\n",
              "    </tr>\n",
              "    <tr>\n",
              "      <th>Instant answer,Image pack,Site links</th>\n",
              "      <td>2</td>\n",
              "    </tr>\n",
              "    <tr>\n",
              "      <th>Instant answer,Knowledge panel</th>\n",
              "      <td>23</td>\n",
              "    </tr>\n",
              "    <tr>\n",
              "      <th>Instant answer,Knowledge panel,Image pack</th>\n",
              "      <td>10</td>\n",
              "    </tr>\n",
              "    <tr>\n",
              "      <th>Instant answer,Knowledge panel,Local pack</th>\n",
              "      <td>1</td>\n",
              "    </tr>\n",
              "    <tr>\n",
              "      <th>Instant answer,Knowledge panel,Local pack,Top stories,Image pack,Site links</th>\n",
              "      <td>1</td>\n",
              "    </tr>\n",
              "    <tr>\n",
              "      <th>Instant answer,Knowledge panel,Top stories</th>\n",
              "      <td>3</td>\n",
              "    </tr>\n",
              "    <tr>\n",
              "      <th>Instant answer,Knowledge panel,Top stories,Site links</th>\n",
              "      <td>1</td>\n",
              "    </tr>\n",
              "    <tr>\n",
              "      <th>Instant answer,Local pack,Image pack</th>\n",
              "      <td>1</td>\n",
              "    </tr>\n",
              "    <tr>\n",
              "      <th>Knowledge panel</th>\n",
              "      <td>148</td>\n",
              "    </tr>\n",
              "    <tr>\n",
              "      <th>Knowledge panel,Carousel</th>\n",
              "      <td>6</td>\n",
              "    </tr>\n",
              "    <tr>\n",
              "      <th>Knowledge panel,Image pack</th>\n",
              "      <td>2016</td>\n",
              "    </tr>\n",
              "    <tr>\n",
              "      <th>Knowledge panel,Image pack,Site links</th>\n",
              "      <td>101</td>\n",
              "    </tr>\n",
              "    <tr>\n",
              "      <th>Knowledge panel,Local pack</th>\n",
              "      <td>7</td>\n",
              "    </tr>\n",
              "    <tr>\n",
              "      <th>Knowledge panel,Local pack,Image pack</th>\n",
              "      <td>15</td>\n",
              "    </tr>\n",
              "    <tr>\n",
              "      <th>Knowledge panel,Local pack,Image pack,Site links</th>\n",
              "      <td>26</td>\n",
              "    </tr>\n",
              "    <tr>\n",
              "      <th>Knowledge panel,Local pack,Site links</th>\n",
              "      <td>10</td>\n",
              "    </tr>\n",
              "    <tr>\n",
              "      <th>Knowledge panel,Local pack,Top stories</th>\n",
              "      <td>1</td>\n",
              "    </tr>\n",
              "    <tr>\n",
              "      <th>Knowledge panel,Local pack,Top stories,Image pack</th>\n",
              "      <td>5</td>\n",
              "    </tr>\n",
              "    <tr>\n",
              "      <th>Knowledge panel,Local pack,Top stories,Image pack,Site links</th>\n",
              "      <td>6</td>\n",
              "    </tr>\n",
              "    <tr>\n",
              "      <th>Knowledge panel,Local pack,Top stories,Site links</th>\n",
              "      <td>2</td>\n",
              "    </tr>\n",
              "    <tr>\n",
              "      <th>Knowledge panel,Site links</th>\n",
              "      <td>3</td>\n",
              "    </tr>\n",
              "    <tr>\n",
              "      <th>Knowledge panel,Top stories</th>\n",
              "      <td>2</td>\n",
              "    </tr>\n",
              "    <tr>\n",
              "      <th>Local pack</th>\n",
              "      <td>282</td>\n",
              "    </tr>\n",
              "    <tr>\n",
              "      <th>Local pack,Featured Snippet</th>\n",
              "      <td>1</td>\n",
              "    </tr>\n",
              "    <tr>\n",
              "      <th>Local pack,Image pack</th>\n",
              "      <td>1819</td>\n",
              "    </tr>\n",
              "    <tr>\n",
              "      <th>Local pack,Image pack,Site links</th>\n",
              "      <td>278</td>\n",
              "    </tr>\n",
              "    <tr>\n",
              "      <th>Local pack,Site links</th>\n",
              "      <td>120</td>\n",
              "    </tr>\n",
              "    <tr>\n",
              "      <th>Local pack,Top stories</th>\n",
              "      <td>6</td>\n",
              "    </tr>\n",
              "    <tr>\n",
              "      <th>Local pack,Top stories,Image pack</th>\n",
              "      <td>6</td>\n",
              "    </tr>\n",
              "    <tr>\n",
              "      <th>Local pack,Top stories,Image pack,Site links</th>\n",
              "      <td>7</td>\n",
              "    </tr>\n",
              "    <tr>\n",
              "      <th>Local pack,Top stories,Site links</th>\n",
              "      <td>1</td>\n",
              "    </tr>\n",
              "    <tr>\n",
              "      <th>Reviews</th>\n",
              "      <td>2</td>\n",
              "    </tr>\n",
              "    <tr>\n",
              "      <th>Site links</th>\n",
              "      <td>71</td>\n",
              "    </tr>\n",
              "    <tr>\n",
              "      <th>Site links,Featured Snippet</th>\n",
              "      <td>1</td>\n",
              "    </tr>\n",
              "    <tr>\n",
              "      <th>Top stories</th>\n",
              "      <td>4</td>\n",
              "    </tr>\n",
              "    <tr>\n",
              "      <th>Top stories,Image pack</th>\n",
              "      <td>8</td>\n",
              "    </tr>\n",
              "    <tr>\n",
              "      <th>Top stories,Image pack,Site links</th>\n",
              "      <td>2</td>\n",
              "    </tr>\n",
              "  </tbody>\n",
              "</table>\n",
              "</div>"
            ],
            "text/plain": [
              "                                                    SERP Features\n",
              "SERP Feature Names                                               \n",
              "                                                             1399\n",
              "Carousel                                                        4\n",
              "Carousel,Image pack                                            11\n",
              "Carousel,Image pack,Featured Snippet                            1\n",
              "Carousel,Top stories,Image pack                                 1\n",
              "Featured Snippet                                               56\n",
              "Image pack                                                   3366\n",
              "Image pack,Featured Snippet                                    54\n",
              "Image pack,Reviews                                              8\n",
              "Image pack,Site links                                          89\n",
              "Image pack,Site links,Featured Snippet                          1\n",
              "Instant answer                                                  2\n",
              "Instant answer,Image pack                                      11\n",
              "Instant answer,Image pack,Site links                            2\n",
              "Instant answer,Knowledge panel                                 23\n",
              "Instant answer,Knowledge panel,Image pack                      10\n",
              "Instant answer,Knowledge panel,Local pack                       1\n",
              "Instant answer,Knowledge panel,Local pack,Top s...              1\n",
              "Instant answer,Knowledge panel,Top stories                      3\n",
              "Instant answer,Knowledge panel,Top stories,Site...              1\n",
              "Instant answer,Local pack,Image pack                            1\n",
              "Knowledge panel                                               148\n",
              "Knowledge panel,Carousel                                        6\n",
              "Knowledge panel,Image pack                                   2016\n",
              "Knowledge panel,Image pack,Site links                         101\n",
              "Knowledge panel,Local pack                                      7\n",
              "Knowledge panel,Local pack,Image pack                          15\n",
              "Knowledge panel,Local pack,Image pack,Site links               26\n",
              "Knowledge panel,Local pack,Site links                          10\n",
              "Knowledge panel,Local pack,Top stories                          1\n",
              "Knowledge panel,Local pack,Top stories,Image pack               5\n",
              "Knowledge panel,Local pack,Top stories,Image pa...              6\n",
              "Knowledge panel,Local pack,Top stories,Site links               2\n",
              "Knowledge panel,Site links                                      3\n",
              "Knowledge panel,Top stories                                     2\n",
              "Local pack                                                    282\n",
              "Local pack,Featured Snippet                                     1\n",
              "Local pack,Image pack                                        1819\n",
              "Local pack,Image pack,Site links                              278\n",
              "Local pack,Site links                                         120\n",
              "Local pack,Top stories                                          6\n",
              "Local pack,Top stories,Image pack                               6\n",
              "Local pack,Top stories,Image pack,Site links                    7\n",
              "Local pack,Top stories,Site links                               1\n",
              "Reviews                                                         2\n",
              "Site links                                                     71\n",
              "Site links,Featured Snippet                                     1\n",
              "Top stories                                                     4\n",
              "Top stories,Image pack                                          8\n",
              "Top stories,Image pack,Site links                               2"
            ]
          },
          "metadata": {
            "tags": []
          },
          "execution_count": 36
        }
      ]
    },
    {
      "cell_type": "markdown",
      "metadata": {
        "id": "RT4fFTOrk6fy",
        "colab_type": "text"
      },
      "source": [
        "### Download analysis to a CSV\n"
      ]
    },
    {
      "cell_type": "code",
      "metadata": {
        "id": "PGw9qUXyVl1Y",
        "colab_type": "code",
        "colab": {}
      },
      "source": [
        "df_consolidated.to_csv(csv_file)"
      ],
      "execution_count": 0,
      "outputs": []
    },
    {
      "cell_type": "code",
      "metadata": {
        "id": "j04-Sz1JXGzn",
        "colab_type": "code",
        "outputId": "bb6f21ea-578d-48b7-9b72-30ad89050725",
        "colab": {
          "base_uri": "https://localhost:8080/",
          "height": 34
        }
      },
      "source": [
        "!ls"
      ],
      "execution_count": 0,
      "outputs": [
        {
          "output_type": "stream",
          "text": [
            "advanceautoparts.csv  autozone.csv  sample_data\n"
          ],
          "name": "stdout"
        }
      ]
    },
    {
      "cell_type": "code",
      "metadata": {
        "id": "YXcVT7ihXID6",
        "colab_type": "code",
        "colab": {}
      },
      "source": [
        "from google.colab import files\n",
        "\n",
        "files.download(csv_file)"
      ],
      "execution_count": 0,
      "outputs": []
    },
    {
      "cell_type": "code",
      "metadata": {
        "id": "wvMu0fV0XNcj",
        "colab_type": "code",
        "colab": {}
      },
      "source": [
        ""
      ],
      "execution_count": 0,
      "outputs": []
    }
  ]
}